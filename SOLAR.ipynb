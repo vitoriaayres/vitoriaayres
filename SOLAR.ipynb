{
  "nbformat": 4,
  "nbformat_minor": 0,
  "metadata": {
    "colab": {
      "provenance": [],
      "authorship_tag": "ABX9TyMAtYGs18f4ECVsnnRza73Y",
      "include_colab_link": true
    },
    "kernelspec": {
      "name": "python3",
      "display_name": "Python 3"
    },
    "language_info": {
      "name": "python"
    }
  },
  "cells": [
    {
      "cell_type": "markdown",
      "metadata": {
        "id": "view-in-github",
        "colab_type": "text"
      },
      "source": [
        "<a href=\"https://colab.research.google.com/github/vitoriaayres/vitoriaayres/blob/main/SOLAR.ipynb\" target=\"_parent\"><img src=\"https://colab.research.google.com/assets/colab-badge.svg\" alt=\"Open In Colab\"/></a>"
      ]
    },
    {
      "cell_type": "code",
      "source": [
        "import pandas as pd\n",
        "import numpy as np\n",
        "from sklearn.model_selection import train_test_split\n",
        "from sklearn.ensemble import RandomForestRegressor\n",
        "from sklearn.metrics import mean_squared_error, r2_score\n",
        "import matplotlib.pyplot as plt\n",
        "import math"
      ],
      "metadata": {
        "id": "2Q5X4_U57LGC"
      },
      "execution_count": null,
      "outputs": []
    },
    {
      "cell_type": "code",
      "source": [],
      "metadata": {
        "colab": {
          "base_uri": "https://localhost:8080/",
          "height": 240
        },
        "id": "ebt4ZaPo7Ms9",
        "outputId": "4d60e934-6e68-4b68-951b-fb99cd7b3f7f"
      },
      "execution_count": null,
      "outputs": [
        {
          "output_type": "stream",
          "name": "stdout",
          "text": [
            "ERRO\n"
          ]
        },
        {
          "output_type": "error",
          "ename": "NameError",
          "evalue": "name 'df_gen' is not defined",
          "traceback": [
            "\u001b[0;31m---------------------------------------------------------------------------\u001b[0m",
            "\u001b[0;31mNameError\u001b[0m                                 Traceback (most recent call last)",
            "\u001b[0;32m/tmp/ipython-input-1122449446.py\u001b[0m in \u001b[0;36m<cell line: 0>\u001b[0;34m()\u001b[0m\n\u001b[1;32m      5\u001b[0m   \u001b[0mprint\u001b[0m\u001b[0;34m(\u001b[0m\u001b[0;34m\"ERRO\"\u001b[0m\u001b[0;34m)\u001b[0m\u001b[0;34m\u001b[0m\u001b[0;34m\u001b[0m\u001b[0m\n\u001b[1;32m      6\u001b[0m \u001b[0;34m\u001b[0m\u001b[0m\n\u001b[0;32m----> 7\u001b[0;31m df_gen.rename(columns={\n\u001b[0m\u001b[1;32m      8\u001b[0m     \u001b[0;34m'DATE_TIME'\u001b[0m\u001b[0;34m:\u001b[0m \u001b[0;34m'DATA_HORA'\u001b[0m\u001b[0;34m,\u001b[0m\u001b[0;34m\u001b[0m\u001b[0;34m\u001b[0m\u001b[0m\n\u001b[1;32m      9\u001b[0m     \u001b[0;34m'PLANT_ID'\u001b[0m\u001b[0;34m:\u001b[0m \u001b[0;34m'ID_PLANTA'\u001b[0m\u001b[0;34m,\u001b[0m\u001b[0;34m\u001b[0m\u001b[0;34m\u001b[0m\u001b[0m\n",
            "\u001b[0;31mNameError\u001b[0m: name 'df_gen' is not defined"
          ]
        }
      ]
    },
    {
      "cell_type": "code",
      "execution_count": null,
      "metadata": {
        "colab": {
          "base_uri": "https://localhost:8080/",
          "height": 260
        },
        "id": "xhJ9Vjxo88oj",
        "outputId": "03675c44-cb12-4022-9e55-04eca54ccba0"
      },
      "outputs": [
        {
          "output_type": "stream",
          "name": "stdout",
          "text": [
            "Erro: Verifique se os nomes dos arquivos estão corretos ou se o ambiente de execução tem acesso aos arquivos.\n"
          ]
        },
        {
          "output_type": "error",
          "ename": "NameError",
          "evalue": "name 'df_gen' is not defined",
          "traceback": [
            "\u001b[0;31m---------------------------------------------------------------------------\u001b[0m",
            "\u001b[0;31mNameError\u001b[0m                                 Traceback (most recent call last)",
            "\u001b[0;32m/tmp/ipython-input-2997339207.py\u001b[0m in \u001b[0;36m<cell line: 0>\u001b[0;34m()\u001b[0m\n\u001b[1;32m     15\u001b[0m     \u001b[0;31m# For now, we'll assume the files are found after correcting the path\u001b[0m\u001b[0;34m\u001b[0m\u001b[0;34m\u001b[0m\u001b[0m\n\u001b[1;32m     16\u001b[0m \u001b[0;34m\u001b[0m\u001b[0m\n\u001b[0;32m---> 17\u001b[0;31m df_gen.rename(columns={\n\u001b[0m\u001b[1;32m     18\u001b[0m     \u001b[0;34m'DATE_TIME'\u001b[0m\u001b[0;34m:\u001b[0m \u001b[0;34m'DATA_HORA'\u001b[0m\u001b[0;34m,\u001b[0m\u001b[0;34m\u001b[0m\u001b[0;34m\u001b[0m\u001b[0m\n\u001b[1;32m     19\u001b[0m     \u001b[0;34m'PLANT_ID'\u001b[0m\u001b[0;34m:\u001b[0m \u001b[0;34m'ID_PLANTA'\u001b[0m\u001b[0;34m,\u001b[0m\u001b[0;34m\u001b[0m\u001b[0;34m\u001b[0m\u001b[0m\n",
            "\u001b[0;31mNameError\u001b[0m: name 'df_gen' is not defined"
          ]
        }
      ],
      "source": [
        "import pandas as pd\n",
        "import numpy as np\n",
        "from sklearn.model_selection import train_test_split\n",
        "from sklearn.ensemble import RandomForestRegressor\n",
        "from sklearn.metrics import mean_squared_error, r2_score\n",
        "import matplotlib.pyplot as plt\n",
        "import math\n",
        "\n",
        "try:\n",
        "    df_gen = pd.read_csv('Plant_1_Generation_Data.csv')\n",
        "    df_weather = pd.read_csv('Plant_1_Weather_Sensor_Data.csv')\n",
        "except FileNotFoundError:\n",
        "    print(\"Erro: Verifique se os nomes dos arquivos estão corretos ou se o ambiente de execução tem acesso aos arquivos.\")\n",
        "    # Exit or handle the error appropriately if files are not found\n",
        "    # For now, we'll assume the files are found after correcting the path\n",
        "\n",
        "df_gen.rename(columns={\n",
        "    'DATE_TIME': 'DATA_HORA',\n",
        "    'PLANT_ID': 'ID_PLANTA',\n",
        "    'SOURCE_KEY': 'CHAVE_FONTE',\n",
        "    'DC_POWER': 'POTENCIA_DC',\n",
        "    'AC_POWER': 'POTENCIA_AC',\n",
        "    'DAILY_YIELD': 'PRODUCAO_DIARIA',\n",
        "    'TOTAL_YIELD': 'PRODUCAO_TOTAL'\n",
        "}, inplace=True)\n",
        "\n",
        "df_weather.rename(columns={\n",
        "    'DATE_TIME': 'DATA_HORA',\n",
        "    'PLANT_ID': 'ID_PLANTA',\n",
        "    'SOURCE_KEY': 'CHAVE_FONTE',\n",
        "    'AMBIENT_TEMPERATURE': 'TEMPERATURA_AMBIENTE',\n",
        "    'MODULE_TEMPERATURE': 'TEMPERATURA_MODULO',\n",
        "    'IRRADIATION': 'IRRADIACAO'\n",
        "}, inplace=True)\n",
        "\n",
        "\n",
        "df_gen['DATA_HORA'] = pd.to_datetime(df_gen['DATA_HORA'], format='%d-%m-%Y %H:%M')\n",
        "df_weather['DATA_HORA'] = pd.to_datetime(df_weather['DATA_HORA'])\n",
        "\n",
        "df_gen_clean = df_gen.groupby('DATA_HORA')[['POTENCIA_AC', 'POTENCIA_DC', 'PRODUCAO_DIARIA']].sum().reset_index()\n",
        "\n",
        "\n",
        "df_merged = pd.merge(df_gen_clean, df_weather, on='DATA_HORA', how='inner')\n",
        "\n",
        "\n",
        "df_merged['HORA'] = df_merged['DATA_HORA'].dt.hour\n",
        "df_merged['MINUTO'] = df_merged['DATA_HORA'].dt.minute # Adicionar minuto\n",
        "df_merged['MES'] = df_merged['DATA_HORA'].dt.month\n",
        "df_merged['DIA_DO_ANO'] = df_merged['DATA_HORA'].dt.dayofyear # Posição do sol no ano\n",
        "\n",
        "df_merged['HORA_SIN'] = np.sin(2 * np.pi * df_merged['HORA'] / 24)\n",
        "df_merged['HORA_COS'] = np.cos(2 * np.pi * df_merged['HORA'] / 24)\n",
        "df_merged['MINUTO_SIN'] = np.sin(2 * np.pi * df_merged['MINUTO'] / 60)\n",
        "df_merged['MINUTO_COS'] = np.cos(2 * np.pi * df_merged['MINUTO'] / 60)\n",
        "\n",
        "\n",
        "features = [\n",
        "    'IRRADIACAO',\n",
        "    'TEMPERATURA_MODULO',\n",
        "    'TEMPERATURA_AMBIENTE',\n",
        "    'HORA_SIN', # Usar features cíclicas da hora\n",
        "    'HORA_COS',\n",
        "    'MINUTO_SIN', # Usar features cíclicas do minuto\n",
        "    'MINUTO_COS',\n",
        "    'MES',\n",
        "    'DIA_DO_ANO'\n",
        "]\n",
        "target = 'POTENCIA_AC'\n",
        "\n",
        "X = df_merged[features]\n",
        "y = df_merged[target]\n",
        "\n",
        "\n",
        "X_daytime = X[X['IRRADIACAO'] > 0.01]\n",
        "y_daytime = y[X['IRRADIACAO'] > 0.01]\n",
        "\n",
        "\n",
        "X_train, X_test, y_train, y_test = train_test_split(\n",
        "    X_daytime, y_daytime, test_size=0.2, random_state=42\n",
        ")\n",
        "\n",
        "print(f\"Dados de Treinamento (Amostras): {X_train.shape[0]}\")\n",
        "print(f\"Dados de Teste (Amostras): {X_test.shape[0]}\")\n",
        "\n",
        "rf_model = RandomForestRegressor(\n",
        "    n_estimators=100,\n",
        "    max_depth=10,\n",
        "    random_state=42,\n",
        "    n_jobs=-1\n",
        ")\n",
        "\n",
        "\n",
        "print(\"\\nIniciando o treinamento do modelo Random Forest...\")\n",
        "rf_model.fit(X_train, y_train)\n",
        "print(\"Treinamento concluído.\")\n",
        "\n",
        "y_pred = rf_model.predict(X_test)\n",
        "\n",
        "\n",
        "rmse = np.sqrt(mean_squared_error(y_test, y_pred))\n",
        "\n",
        "\n",
        "r2 = r2_score(y_test, y_pred)\n",
        "\n",
        "print(\"\\n--- Resultados da Avaliação ---\")\n",
        "print(f\"RMSE (Erro Quadrático Médio da Raiz): {rmse:.2f} kW\")\n",
        "print(f\"R² (Coeficiente de Determinação): {r2:.4f}\")\n",
        "print(\"------------------------------\")\n",
        "\n",
        "\n",
        "feature_importances = pd.Series(\n",
        "    rf_model.feature_importances_,\n",
        "    index=features\n",
        ").sort_values(ascending=False)\n",
        "\n",
        "print(\"\\nImportância das Features (Fatores mais importantes para a previsão):\")\n",
        "print(feature_importances)\n",
        "\n",
        "\n",
        "plt.figure(figsize=(12, 6))\n",
        "\n",
        "plt.plot(y_test.values[:100], label='Real', marker='o', linestyle='None', alpha=0.6)\n",
        "plt.plot(y_pred[:100], label='Previsão', linestyle='-', color='red')\n",
        "plt.title('Previsão de Geração Solar vs. Valores Reais')\n",
        "plt.xlabel('Amostra de Teste')\n",
        "plt.ylabel('Potência AC (kW)')\n",
        "plt.legend()\n",
        "plt.grid(True, alpha=0.3)\n",
        "plt.show()\n",
        "\n",
        "print(\"\\nEstatísticas da Variável Alvo (POTENCIA_AC) para contexto:\")\n",
        "print(y_daytime.describe())"
      ]
    },
    {
      "cell_type": "code",
      "metadata": {
        "id": "7c411c0d"
      },
      "source": [
        "residuals = y_test - y_pred\n",
        "\n",
        "plt.figure(figsize=(10, 6))\n",
        "plt.hist(residuals, bins=50, edgecolor='k', alpha=0.7)\n",
        "plt.title('Distribuição dos Resíduos do Modelo Random Forest')\n",
        "plt.xlabel('Resíduos (Real - Previsto) [kW]')\n",
        "plt.ylabel('Frequência')\n",
        "plt.grid(True, alpha=0.3)\n",
        "plt.show()\n",
        "\n",
        "print(\"\\nEstatísticas dos Resíduos:\")\n",
        "print(pd.Series(residuals).describe())"
      ],
      "execution_count": null,
      "outputs": []
    },
    {
      "cell_type": "code",
      "source": [
        "df_gen.plot(x= 'DATA_HORA', y='POTENCIA_DC', style='.', figsize = (20, 6),color= \"red\");"
      ],
      "metadata": {
        "id": "bh3RxFN5_xAa"
      },
      "execution_count": null,
      "outputs": []
    },
    {
      "cell_type": "code",
      "source": [
        "import plotly.express as px\n",
        "fig = px.sunburst(df_merged, path=['MES', 'HORA', 'CHAVE_FONTE'], values='PRODUCAO_DIARIA')\n",
        "fig.update_layout (height = 800 , width = 800)\n",
        "fig.show()"
      ],
      "metadata": {
        "id": "ht5qYMt3__PS"
      },
      "execution_count": null,
      "outputs": []
    },
    {
      "cell_type": "code",
      "source": [
        "df_merged['CHAVE_FONTE'].value_counts()"
      ],
      "metadata": {
        "id": "qVgOf7nxAu7c"
      },
      "execution_count": null,
      "outputs": []
    },
    {
      "cell_type": "code",
      "source": [
        "import plotly.express as px\n",
        "import plotly.graph_objs as go\n",
        "\n",
        "fig = px.scatter(df_merged, x = 'PRODUCAO_DIARIA', y = 'IRRADIACAO', log_x=True,\n",
        "                 hover_name=\"CHAVE_FONTE\", hover_data=[\"PRODUCAO_DIARIA\", \"IRRADIACAO\"],\n",
        "                color = 'PRODUCAO_DIARIA', color_continuous_scale= 'rainbow',\n",
        "                title = 'Qualidade ou Quantidade, Essa é a Questão')\n",
        "fig.show()"
      ],
      "metadata": {
        "id": "69hlJNOKA_Rm"
      },
      "execution_count": null,
      "outputs": []
    },
    {
      "cell_type": "code",
      "source": [],
      "metadata": {
        "id": "lxJ-nSzlZZqA"
      },
      "execution_count": null,
      "outputs": []
    }
  ]
}